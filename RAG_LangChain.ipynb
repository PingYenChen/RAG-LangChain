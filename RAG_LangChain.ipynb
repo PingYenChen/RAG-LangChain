{
 "cells": [
  {
   "cell_type": "markdown",
   "metadata": {},
   "source": [
    "# Building a Robot that answers all questions about History of Australia"
   ]
  },
  {
   "cell_type": "markdown",
   "metadata": {},
   "source": [
    "![Alt text](Robot.jpg)"
   ]
  },
  {
   "cell_type": "code",
   "execution_count": 3,
   "metadata": {},
   "outputs": [
    {
     "name": "stdout",
     "output_type": "stream",
     "text": [
      "Note: you may need to restart the kernel to use updated packages.\n"
     ]
    }
   ],
   "source": [
    "# load the environment variables\n",
    "%pip install -qU langchain langchain_community langchain_huggingface langchain_openai\n",
    "from dotenv import load_dotenv\n",
    "import os\n",
    "\n",
    "# loads the .env file (if you have a global environment variable, you can skip this)\n",
    "load_dotenv()\n",
    "\n",
    "# lets just validate that we have the environment variable\n",
    "api_key = os.environ.get(\"OPENAI_API_KEY\")\n",
    "\n",
    "if not api_key:\n",
    "    raise ValueError(\"OPENAI_API_KEY is not set in the environment variables\")"
   ]
  },
  {
   "cell_type": "code",
   "execution_count": 4,
   "metadata": {},
   "outputs": [],
   "source": [
    "from langchain_community.document_loaders import WebBaseLoader\n",
    "from langchain_text_splitters import RecursiveCharacterTextSplitter\n",
    "from langchain_huggingface import HuggingFaceEmbeddings\n",
    "from langchain_community.vectorstores import InMemoryVectorStore\n",
    "\n",
    "# Using the Wikipedia's infomation about history of Australia\n",
    "loader = WebBaseLoader(\"https://en.wikipedia.org/wiki/History_of_Australia\")\n",
    "documents = loader.load()\n",
    "\n",
    "text_splitter = RecursiveCharacterTextSplitter(chunk_size=1000, chunk_overlap=200, separators=[\"\\n\\n\", \"\\n\", \" \", \"\"])\n",
    "chunks = text_splitter.split_documents(documents)\n",
    "embeddings = HuggingFaceEmbeddings(model_name=\"sentence-transformers/all-MiniLM-L6-v2\")\n",
    "vectorstore = InMemoryVectorStore.from_documents(chunks, embeddings)\n",
    "\n",
    "retriever = vectorstore.as_retriever()"
   ]
  },
  {
   "cell_type": "code",
   "execution_count": 5,
   "metadata": {},
   "outputs": [],
   "source": [
    "# setup the chat model and prompt template\n",
    "from langchain_openai import ChatOpenAI\n",
    "from langchain_core.prompts import ChatPromptTemplate\n",
    "\n",
    "llm = ChatOpenAI(model_name=\"gpt-4o-mini\")\n",
    "\n",
    "prompt = ChatPromptTemplate.from_messages([\n",
    "    (\"system\", \"You are a helpful assistant that can answer questions about the History of Australia. Use the provided context to answer the question. IMPORTANT: If you are unsure of the answer, say 'I don't know' and don't make up an answer.\"),\n",
    "    (\"user\", \"Question: {question}\\nContext: {context}\")\n",
    "])\n",
    "\n",
    "chain = prompt | llm"
   ]
  },
  {
   "cell_type": "code",
   "execution_count": 10,
   "metadata": {},
   "outputs": [
    {
     "name": "stdout",
     "output_type": "stream",
     "text": [
      "European exploration of Australia began in the early 17th century predominantly through Dutch expeditions. The first documented European landing was made by Willem Janszoon, who captained the Dutch East India Company ship Duyfken in 1606. Following this, notable explorers included Luis Vaez de Torres, who navigated to the north of Australia later that year, and Dirk Hartog in 1616, who is known for landing on the western shore.\n",
      "\n",
      "In subsequent years, various explorers contributed to the mapping and understanding of Australia's coasts, such as Abel Tasman, who discovered Van Diemen's Land (now Tasmania) in 1642, and William Dampier, who made landfall on the north-west coast in 1688 and again in 1699. His writings provided influential insights into the continent and its Indigenous peoples.\n",
      "\n",
      "British exploration became significant in the 18th century, with Lieutenant James Cook's voyages being particularly important. In 1769, Cook set sail to observe the transit of Venus, but his secret instructions included seeking the fabled Southern Continent. In 1770, he successfully mapped much of the east coast of Australia, which had not been charted by the earlier Dutch navigators, marking a crucial moment in the European understanding of the continent. \n",
      "\n",
      "Overall, these explorations laid the groundwork for later colonization efforts, establishing interest among European powers in Australia's resources and strategic location.\n"
     ]
    }
   ],
   "source": [
    "query = \"Tell me more about European exploration period\"\n",
    "\n",
    "# RETRIEVAL\n",
    "docs = retriever.invoke(query)\n",
    "docs_content = \"\\n\\n\".join(doc.page_content for doc in docs)\n",
    "\n",
    "# AUGMENTED + GENERATION\n",
    "response = chain.invoke({\"question\": query, \"context\": docs})\n",
    "\n",
    "print(response.content)"
   ]
  },
  {
   "cell_type": "code",
   "execution_count": null,
   "metadata": {},
   "outputs": [
    {
     "name": "stdin",
     "output_type": "stream",
     "text": [
      "Enter a question:  tell me about Indigenous history\n"
     ]
    },
    {
     "name": "stdout",
     "output_type": "stream",
     "text": [
      "Indigenous history in Australia dates back tens of thousands of years. The ancestors of Aboriginal Australians are believed to have migrated to the Australian continent between 50,000 and 65,000 years ago, during the last glacial period. They arrived by land bridges and short sea crossings from Southeast Asia. \n",
      "\n",
      "Evidence of their presence includes Aboriginal art, which can be traced back approximately 30,000 years, with significant examples found in locations like Ubirr in Kakadu National Park. This extensive history highlights the deep connection Indigenous Australians have with the land and their rich cultural practices, which have been maintained and evolved over thousands of generations. \n",
      "\n",
      "If you have any more specific questions about Indigenous history or aspects of it, feel free to ask!\n"
     ]
    }
   ],
   "source": [
    "#Create a mini website like chatbox, so can keep asking question over and over again~~~\n",
    "while True:\n",
    "    query = input(\"Enter a question: \")\n",
    "    if query == \"exit\":\n",
    "        break\n",
    "    docs = retriever.invoke(query)\n",
    "    response = chain.invoke({\"question\": query, \"context\": docs})\n",
    "    print(response.content)\n"
   ]
  }
 ],
 "metadata": {
  "kernelspec": {
   "display_name": "Python 3 (ipykernel)",
   "language": "python",
   "name": "python3"
  },
  "language_info": {
   "codemirror_mode": {
    "name": "ipython",
    "version": 3
   },
   "file_extension": ".py",
   "mimetype": "text/x-python",
   "name": "python",
   "nbconvert_exporter": "python",
   "pygments_lexer": "ipython3",
   "version": "3.12.7"
  }
 },
 "nbformat": 4,
 "nbformat_minor": 4
}
